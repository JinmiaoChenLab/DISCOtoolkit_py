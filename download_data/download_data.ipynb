{
 "cells": [
  {
   "attachments": {},
   "cell_type": "markdown",
   "id": "a1d9b1a6",
   "metadata": {},
   "source": [
    "# Download Data"
   ]
  },
  {
   "attachments": {},
   "cell_type": "markdown",
   "id": "cfdcaaf1",
   "metadata": {},
   "source": [
    "We recommend the user visit our [DISCO](http://www.immunesinglecell.org/) website and filter the sample based on the metadata provided on the website.\n",
    "\n",
    "In this tutorial, we will provide a quick guideline for downloading the data using discotoolkit.\n",
    "Steps:\n",
    "- Visit the website to find a sample or cell type of interest.\n",
    "- Utilize the `dt.filter_disco_metadata` function to filter the data from the database.\n",
    "- Employ the `dt.download_disco_data` function to download the data in the `h5ad` extension based on the filtered sample."
   ]
  },
  {
   "cell_type": "code",
   "execution_count": 1,
   "id": "ea0bd44c-44a6-4761-af8b-115838fb99df",
   "metadata": {},
   "outputs": [],
   "source": [
    "# first import the installed package\n",
    "import discotoolkit as dt"
   ]
  },
  {
   "attachments": {},
   "cell_type": "markdown",
   "id": "638e2e74",
   "metadata": {},
   "source": [
    "For this example, we wanted to download LYVE1 macrophage from lung tissue as our cell type of interest. We subset only the highly confident cell type prediction based on our manual annotation and the minimum 300 cells per sample. Notice that we specify `include_cell_type_children` as true to include all sub-cell types if applicable."
   ]
  },
  {
   "cell_type": "code",
   "execution_count": 2,
   "id": "4ae4b2e6-40b9-4f85-ac23-71352bf9ccd9",
   "metadata": {},
   "outputs": [],
   "source": [
    "# filtering the sample based on the metadata\n",
    "filter = dt.Filter(\n",
    "    sample = None,\n",
    "    project = None,\n",
    "    tissue = \"lung\",\n",
    "    platform = [\"10x3'\", \"10x5'\"],\n",
    "    sample_type = [\"Normal\", \"Adjacent normal\"],\n",
    "    cell_type = \"LYVE1 macrophage\",\n",
    "    cell_type_confidence = \"high\",\n",
    "    include_cell_type_children = True,\n",
    "    min_cell_per_sample = 300\n",
    ")"
   ]
  },
  {
   "cell_type": "code",
   "execution_count": 3,
   "id": "bd237d4f-5741-4240-b2a4-98524bad983d",
   "metadata": {},
   "outputs": [
    {
     "name": "stderr",
     "output_type": "stream",
     "text": [
      "INFO:root:Retrieving metadata from DISCO database\n",
      "INFO:root:Filtering sample\n",
      "INFO:root:Retrieving cell type information of each sample from DISCO database\n",
      "INFO:root:Retrieving ontology from DISCO database\n",
      "INFO:root:8 samples and 3863 cells were found\n"
     ]
    }
   ],
   "source": [
    "# apply the filter of interest\n",
    "metadata = dt.filter_disco_metadata(filter)"
   ]
  },
  {
   "attachments": {},
   "cell_type": "markdown",
   "id": "c37d2131",
   "metadata": {},
   "source": [
    "After applying the filter to the database, now we can download the dataset into the `disco_data` directory."
   ]
  },
  {
   "cell_type": "code",
   "execution_count": 4,
   "id": "318f7ff1-5658-46ae-8803-fb534d3dfa54",
   "metadata": {},
   "outputs": [
    {
     "name": "stderr",
     "output_type": "stream",
     "text": [
      "INFO:root:Downloading data of GSM3891625_3\n",
      "INFO:root:Downloading data of GSM5068934_9\n",
      "INFO:root:Downloading data of GSM5068933_11\n",
      "INFO:root:Downloading data of GSM5068932_8\n",
      "INFO:root:Downloading data of GSM5068924_9\n",
      "INFO:root:Downloading data of GSM5068929_11\n",
      "INFO:root:Downloading data of GSM5068929_16\n",
      "INFO:root:Downloading data of GSM5068936_4\n",
      "INFO:root:Downloading data of GSM5068928_12\n"
     ]
    }
   ],
   "source": [
    "# download data to the local directory\n",
    "download_log = dt.download_disco_data(metadata, output_dir = \"disco_data\")"
   ]
  }
 ],
 "metadata": {
  "kernelspec": {
   "display_name": "disco",
   "language": "python",
   "name": "disco"
  },
  "language_info": {
   "codemirror_mode": {
    "name": "ipython",
    "version": 3
   },
   "file_extension": ".py",
   "mimetype": "text/x-python",
   "name": "python",
   "nbconvert_exporter": "python",
   "pygments_lexer": "ipython3",
   "version": "3.8.16"
  }
 },
 "nbformat": 4,
 "nbformat_minor": 5
}
